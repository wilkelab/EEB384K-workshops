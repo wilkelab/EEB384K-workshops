{
 "cells": [
  {
   "cell_type": "markdown",
   "id": "f4bdc548",
   "metadata": {},
   "source": [
    "## Week 3 workshop\n",
    "\n",
    "In this week, we'll build and run a basic multi-layer perceptron, and use it to recognize the digits in the MNIST dataset.\n",
    "\n",
    "First we import the required dependencies:"
   ]
  },
  {
   "cell_type": "code",
   "execution_count": null,
   "id": "49a385eb",
   "metadata": {},
   "outputs": [],
   "source": [
    "import numpy as np\n",
    "import pandas as pd\n",
    "import plotnine as gg; gg.theme_set(gg.theme_bw())\n",
    "import torch\n",
    "import torch.nn as nn\n",
    "import torch.nn.functional as F\n",
    "import torch.optim as optim\n",
    "from torchvision import datasets, transforms\n",
    "from torch.optim.lr_scheduler import StepLR\n",
    "from prettytable import PrettyTable"
   ]
  },
  {
   "cell_type": "markdown",
   "id": "47e93664",
   "metadata": {},
   "source": [
    "## Defining the model\n",
    "\n",
    "Next we define the model. We are using a fully connected feed-forward network with two hidden layers."
   ]
  },
  {
   "cell_type": "code",
   "execution_count": null,
   "id": "56c75a6a",
   "metadata": {},
   "outputs": [],
   "source": [
    "hidden_dim_1 = 16\n",
    "hidden_dim_2 = 16\n",
    "\n",
    "class Net(nn.Module):\n",
    "    def __init__(self):\n",
    "        super(Net, self).__init__()\n",
    "        self.fc1 = nn.Linear(784, hidden_dim_1)\n",
    "        self.fc2 = nn.Linear(hidden_dim_1, hidden_dim_2)\n",
    "        self.fc3 = nn.Linear(hidden_dim_2, 10)\n",
    "\n",
    "    def forward(self, x):\n",
    "        x = torch.flatten(x, 1)\n",
    "        x = self.fc1(x)\n",
    "        x = F.relu(x)\n",
    "        x = self.fc2(x)\n",
    "        x = F.relu(x)\n",
    "        x = self.fc3(x)\n",
    "        output = F.log_softmax(x, dim=1)\n",
    "        return output"
   ]
  },
  {
   "cell_type": "markdown",
   "id": "51665b6d",
   "metadata": {},
   "source": [
    "## Training and testing functions\n",
    "\n",
    "The following functions are needed to train and test the model.\n",
    "\n",
    "This function trains one epoch of the model:"
   ]
  },
  {
   "cell_type": "code",
   "execution_count": null,
   "id": "345d3f20",
   "metadata": {},
   "outputs": [],
   "source": [
    "def train(args, model, device, train_loader, optimizer, epoch):\n",
    "    model.train()\n",
    "    met = pd.DataFrame({\"epoch\" : [epoch for _ in range(len(train_loader))],\n",
    "                        \"batch\" : range(len(train_loader)),\n",
    "                        \"train_loss\" : np.zeros(len(train_loader)),\n",
    "                        \"train_accuracy\" : np.zeros(len(train_loader))})\n",
    "    for batch_idx, (data, target) in enumerate(train_loader):\n",
    "        data, target = data.to(device), target.to(device)\n",
    "        optimizer.zero_grad()\n",
    "        output = model(data)\n",
    "        loss = F.nll_loss(output, target)\n",
    "        loss.backward()\n",
    "        optimizer.step()\n",
    "        met.loc[(epoch, batch_idx), \"train_loss\"] = loss.item()\n",
    "        resub = output.argmax(dim=1, keepdim=True)\n",
    "        met.loc[(epoch, batch_idx), \"train_accuracy\"] =\\\n",
    "            resub.eq(target.view_as(resub)).sum().item() / len(target)\n",
    "        if batch_idx % args.log_interval == 0:\n",
    "            print('Train Epoch: {} [{}/{} ({:.0f}%)]\\tLoss: {:.6f}'.format(\n",
    "                epoch, batch_idx * len(data), len(train_loader.dataset),\n",
    "                100. * batch_idx / len(train_loader), loss.item()))\n",
    "    return met.reset_index().loc[:, [\"epoch\", \"batch\", \"train_loss\", \"train_accuracy\"]]"
   ]
  },
  {
   "cell_type": "markdown",
   "id": "c10ae86e",
   "metadata": {},
   "source": [
    "And this function tests the model on the test data:"
   ]
  },
  {
   "cell_type": "code",
   "execution_count": null,
   "id": "9df40336",
   "metadata": {},
   "outputs": [],
   "source": [
    "def test(model, device, test_loader):\n",
    "    model.eval()\n",
    "    met = pd.DataFrame({\"epoch\" : [epoch],\n",
    "                        \"test_loss\" : [0.0],\n",
    "                        \"test_accuracy\" : [0.0]})\n",
    "    test_loss = 0\n",
    "    correct = 0\n",
    "    with torch.no_grad():\n",
    "        for data, target in test_loader:\n",
    "            data, target = data.to(device), target.to(device)\n",
    "            output = model(data)\n",
    "            test_loss += F.nll_loss(output, target, reduction='sum').item()  # sum up batch loss\n",
    "            pred = output.argmax(dim=1, keepdim=True)  # get the index of the max log-probability\n",
    "            correct += pred.eq(target.view_as(pred)).sum().item()\n",
    "\n",
    "    test_loss /= len(test_loader.dataset)\n",
    "    met.loc[0, \"test_loss\"] = test_loss\n",
    "    met.loc[0, \"test_accuracy\"] = correct / len(test_loader.dataset)\n",
    "\n",
    "    print('\\nTest set: Average loss: {:.4f}, Accuracy: {}/{} ({:.0f}%)\\n'.format(\n",
    "        test_loss, correct, len(test_loader.dataset),\n",
    "        100. * correct / len(test_loader.dataset)))\n",
    "    return met.loc[:, [\"epoch\", \"test_loss\", \"test_accuracy\"]]"
   ]
  },
  {
   "cell_type": "markdown",
   "id": "c5bb7db0",
   "metadata": {},
   "source": [
    "Finally, the following is a useful function to summarize model parameters:"
   ]
  },
  {
   "cell_type": "code",
   "execution_count": null,
   "id": "82a16489",
   "metadata": {},
   "outputs": [],
   "source": [
    "# from: https://stackoverflow.com/a/62508086/4975218\n",
    "def count_parameters(model):\n",
    "    table = PrettyTable([\"Modules\", \"Parameters\"])\n",
    "    total_params = 0\n",
    "    for name, parameter in model.named_parameters():\n",
    "        if not parameter.requires_grad:\n",
    "            continue\n",
    "        params = parameter.numel()\n",
    "        table.add_row([name, params])\n",
    "        total_params += params\n",
    "    print(table)\n",
    "    print(f\"Total Trainable Params: {total_params}\\n\")\n",
    "    return total_params"
   ]
  },
  {
   "cell_type": "markdown",
   "id": "38060db5",
   "metadata": {},
   "source": [
    "## Training the model\n",
    "\n",
    "Before we run the actual training, we define all the required parameter settings:"
   ]
  },
  {
   "cell_type": "code",
   "execution_count": null,
   "id": "811962bc",
   "metadata": {},
   "outputs": [],
   "source": [
    "# parameters controlling the training run\n",
    "class args: pass\n",
    "args.batch_size = 64\n",
    "args.test_batch_size = 1000\n",
    "args.epochs = 20\n",
    "args.lr = 0.25 # learning rate\n",
    "args.gamma = 0.7 # learning rate step gamma\n",
    "args.seed = 1234 # random seed\n",
    "args.log_interval = 100 # how frequently is training status reported\n",
    "args.no_cuda = False  # set to True to not use CUDA for training (even if available)\n",
    "args.no_mps = False # set to True to not use Mac OS GPUs for training (even if available)\n"
   ]
  },
  {
   "cell_type": "markdown",
   "id": "803854b4",
   "metadata": {},
   "source": [
    "This is the actual training code:"
   ]
  },
  {
   "cell_type": "code",
   "execution_count": null,
   "id": "3e400b0c",
   "metadata": {},
   "outputs": [],
   "source": [
    "torch.manual_seed(args.seed)\n",
    "\n",
    "use_cuda = not args.no_cuda and torch.cuda.is_available()\n",
    "use_mps = not args.no_mps and torch.backends.mps.is_available()\n",
    "\n",
    "if use_cuda:\n",
    "    device = torch.device(\"cuda\")\n",
    "elif use_mps:\n",
    "    device = torch.device(\"mps\")\n",
    "else:\n",
    "    device = torch.device(\"cpu\")\n",
    "\n",
    "train_kwargs = {'batch_size': args.batch_size}\n",
    "test_kwargs = {'batch_size': args.test_batch_size}\n",
    "if use_cuda:\n",
    "    cuda_kwargs = {'num_workers': 1,\n",
    "                   'pin_memory': True,\n",
    "                   'shuffle': True}\n",
    "    train_kwargs.update(cuda_kwargs)\n",
    "    test_kwargs.update(cuda_kwargs)\n",
    "\n",
    "transform=transforms.Compose([\n",
    "    transforms.ToTensor(),\n",
    "    transforms.Normalize((0.1307,), (0.3081,))\n",
    "])\n",
    "\n",
    "dataset1 = datasets.MNIST('./data', train=True, download=True, transform=transform)\n",
    "dataset2 = datasets.MNIST('./data', train=False, transform=transform)\n",
    "train_loader = torch.utils.data.DataLoader(dataset1, **train_kwargs)\n",
    "test_loader = torch.utils.data.DataLoader(dataset2, **test_kwargs)\n",
    "\n",
    "model = Net().to(device)\n",
    "count_parameters(model)\n",
    "optimizer = optim.Adadelta(model.parameters(), lr=args.lr)\n",
    "\n",
    "scheduler = StepLR(optimizer, step_size=5, gamma=args.gamma)\n",
    "trainMets = []; testMets = []\n",
    "for epoch in range(1, args.epochs + 1):\n",
    "    trainMets.append(train(args, model, device, train_loader, optimizer, epoch))\n",
    "    testMets.append(test(model, device, test_loader))\n",
    "    scheduler.step()\n",
    "\n",
    "trainMets = pd.concat(trainMets, axis=0)\n",
    "testMets = pd.concat(testMets, axis=0)"
   ]
  },
  {
   "cell_type": "markdown",
   "id": "88bf8db3",
   "metadata": {},
   "source": [
    "Once we have trained the model, we can plot training and test loss and training and test accuracy over the training run."
   ]
  },
  {
   "cell_type": "code",
   "execution_count": null,
   "id": "5a054ba1",
   "metadata": {},
   "outputs": [],
   "source": [
    "# wrangle the data\n",
    "trainMetSummaries = trainMets.loc[:, [\"epoch\", \"train_loss\", \"train_accuracy\"]]\\\n",
    "                             .groupby(\"epoch\")\\\n",
    "                             .aggregate(\"mean\")\\\n",
    "                             .stack()\\\n",
    "                             .reset_index()\n",
    "testMetSummaries = testMets.set_index(\"epoch\")\\\n",
    "                           .stack()\\\n",
    "                           .reset_index()\n",
    "metSummaries = pd.concat([trainMetSummaries, testMetSummaries], axis=0)\n",
    "metSummaries.columns = [\"epoch\", \"metric\", \"value\"]\n",
    "metLoss = metSummaries.loc[metSummaries.metric.isin([\"train_loss\", \"test_loss\"])]\n",
    "metAcc = metSummaries.loc[metSummaries.metric.isin([\"train_accuracy\", \"test_accuracy\"])]\n",
    "\n",
    "# plot the loss\n",
    "ggoLoss = gg.ggplot(metLoss, gg.aes(x=\"epoch\", y=\"value\", color=\"metric\"))\n",
    "ggoLoss += gg.geom_line(size = 1)\n",
    "ggoLoss += gg.ylim(0.07, 0.45)\n",
    "ggoLoss"
   ]
  },
  {
   "cell_type": "code",
   "execution_count": null,
   "id": "1c473937",
   "metadata": {},
   "outputs": [],
   "source": [
    "# plot the accuracy\n",
    "ggoAcc = gg.ggplot(metAcc, gg.aes(x=\"epoch\", y=\"value\", color=\"metric\"))\n",
    "ggoAcc += gg.geom_line(size = 1)\n",
    "ggoAcc += gg.ylim(0.85, 0.98)\n",
    "ggoAcc"
   ]
  },
  {
   "cell_type": "markdown",
   "id": "f2b81565",
   "metadata": {},
   "source": [
    "Finally, you may want to save the figures and the trained model."
   ]
  },
  {
   "cell_type": "code",
   "execution_count": null,
   "id": "97509307",
   "metadata": {},
   "outputs": [],
   "source": [
    "# save the figures\n",
    "ggoLoss.save(filename = 'loss.png', height=4, width=6, units = 'in', dpi=600)\n",
    "ggoAcc.save(filename = 'acc.png', height=4, width=6, units = 'in', dpi=600)\n",
    "\n",
    "# uncomment to save the trained model\n",
    "# torch.save(model.state_dict(), \"mnist_mlp.pt\")"
   ]
  },
  {
   "cell_type": "markdown",
   "id": "a6bd15bf",
   "metadata": {},
   "source": [
    "**Exercise 1:** Change the model by either modifying the number of hidden dimensions or by removing one hidden layer entirely and see how this affects model training.\n",
    "\n",
    "**Exercise 2:** Change the training parameters (number of epochs, batch size, learning rate, gamma parameter) and see how this affects model training.\n"
   ]
  }
 ],
 "metadata": {
  "kernelspec": {
   "display_name": ".venv",
   "language": "python",
   "name": "python3"
  },
  "language_info": {
   "codemirror_mode": {
    "name": "ipython",
    "version": 3
   },
   "file_extension": ".py",
   "mimetype": "text/x-python",
   "name": "python",
   "nbconvert_exporter": "python",
   "pygments_lexer": "ipython3",
   "version": "3.12.4"
  }
 },
 "nbformat": 4,
 "nbformat_minor": 5
}
