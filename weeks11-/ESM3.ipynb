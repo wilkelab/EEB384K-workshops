{
 "cells": [
  {
   "cell_type": "code",
   "execution_count": 11,
   "id": "a08db6ee",
   "metadata": {},
   "outputs": [],
   "source": [
    "import esm\n",
    "from esm.sdk.api import ESMProtein, GenerationConfig"
   ]
  },
  {
   "cell_type": "markdown",
   "id": "f4ad5889",
   "metadata": {},
   "source": [
    "You need an account on: https://forge.evolutionaryscale.ai/\n",
    "\n",
    "After you have made an account, log in, click on \"API Keys\" and create a new key."
   ]
  },
  {
   "cell_type": "code",
   "execution_count": null,
   "id": "a4b82b00",
   "metadata": {},
   "outputs": [],
   "source": [
    "# Enter your API key here. But keep in mind this is a security risk.\n",
    "# Never add your key to a github repo or post it publicly in any way.\n",
    "api_key = \"Your API key here\""
   ]
  },
  {
   "cell_type": "code",
   "execution_count": 16,
   "id": "4ac85d3a",
   "metadata": {},
   "outputs": [],
   "source": [
    "model = esm.sdk.client(\"esm3-medium-2024-08\", token=api_key)"
   ]
  },
  {
   "cell_type": "code",
   "execution_count": 17,
   "id": "0b2c83ee",
   "metadata": {},
   "outputs": [
    {
     "name": "stdout",
     "output_type": "stream",
     "text": [
      "MKDYPACSGKRQSPIDIVTSKVTKVSLPPLEFTGYDDQATSLRILNNGHAFNVEFDDSQDKAVLKGGPLDGTYRLIQFHFHWGSLDGQGSEHTVDKKKYAAELHLVHWNTKYGDFGKAVQQPDGLAVLGIFLKVGSAKPGLQKVVDVLDSIKTKGKSADFTNFDPRGLLPESLDYWTYPGSLTTPPCSESVTWIVFKEPIEISKEQLQKFRTSLFFEEEGKDEKLLVNNFRPVQPLNGRTVKESS\n"
     ]
    }
   ],
   "source": [
    "# Define a prompt with masked tokens (underscores) for the part you want to generate\n",
    "prompt_sequence = \"____________________________________DQATSLRILNNGHAFNVEFDDSQDKAVLKGGPLDGTYRLIQFHFHWGSLDGQGSEHTVDKKKYAAELHLVHWNTKYGDFGKAVQQPDGLAVLGIFLKVGSAKPGLQKVVDVLDSIKTKGKSADFTNFDPRGLLPESLDYWTYPGSLTTPP___________________________________________________________\"\n",
    "protein = ESMProtein(sequence=prompt_sequence)\n",
    "\n",
    "# Generate the protein sequence\n",
    "protein = model.generate(\n",
    "    protein,\n",
    "    GenerationConfig(\n",
    "        track=\"sequence\",  # specify that we want to generate a sequence\n",
    "        num_steps=8,      # number of steps for iterative decoding\n",
    "        temperature=0.7   # controls diversity vs. perplexity\n",
    "    )\n",
    ")\n",
    "\n",
    "# The `protein` object now contains the generated sequence.\n",
    "# You can access it via `protein.sequence`\n",
    "print(protein.sequence)\n"
   ]
  },
  {
   "cell_type": "markdown",
   "id": "1ae99e83",
   "metadata": {},
   "source": [
    "To fold the protein you have created, go to: https://alphafoldserver.com/\n",
    "\n",
    "You need to set up an account there as well."
   ]
  }
 ],
 "metadata": {
  "kernelspec": {
   "display_name": ".venv",
   "language": "python",
   "name": "python3"
  },
  "language_info": {
   "codemirror_mode": {
    "name": "ipython",
    "version": 3
   },
   "file_extension": ".py",
   "mimetype": "text/x-python",
   "name": "python",
   "nbconvert_exporter": "python",
   "pygments_lexer": "ipython3",
   "version": "3.13.8"
  }
 },
 "nbformat": 4,
 "nbformat_minor": 5
}
