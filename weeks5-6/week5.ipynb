{
 "cells": [
  {
   "cell_type": "markdown",
   "id": "3d565436",
   "metadata": {},
   "source": [
    "## Week 5 workshop\n",
    "\n",
    "In this week, we'll train a GPT-style model on text by Shakespeare and get the model to speak like Shakespeare.\n",
    "\n",
    "First we import the required dependencies:"
   ]
  },
  {
   "cell_type": "code",
   "execution_count": 29,
   "id": "e37596b4",
   "metadata": {},
   "outputs": [],
   "source": [
    "import sys\n",
    "from pathlib import Path\n",
    "import torch\n",
    "from torch.utils.data import DataLoader\n",
    "import polars as pl\n",
    "from plotnine import ggplot, aes, geom_line, labs, theme_minimal\n",
    "\n",
    "sys.path.append(\"scratch-llm\")\n",
    "from model.llm import LLM\n",
    "from model.tokenizer import Tokenizer, train_tokenizer\n",
    "\n",
    "from helpers.dataset import NextTokenPredictionDataset\n",
    "from helpers.trainer import train\n",
    "from helpers.config import LLMConfig, TrainingConfig, get_device"
   ]
  },
  {
   "cell_type": "markdown",
   "id": "1f749e2c",
   "metadata": {},
   "source": [
    "Next the setup for the model and for model training."
   ]
  },
  {
   "cell_type": "code",
   "execution_count": 30,
   "id": "8d8f6eeb",
   "metadata": {},
   "outputs": [],
   "source": [
    "llm_config = LLMConfig(\n",
    "    vocab_size = 4096,\n",
    "    seq_len = 128,\n",
    "    dim_emb = 256,\n",
    "    num_layers = 4,\n",
    "    num_heads = 8,\n",
    "    emb_dropout = 0.0,\n",
    "    ffn_dim_hidden = 4 * 256,\n",
    "    ffn_bias = False\n",
    ")\n",
    "train_config = TrainingConfig(\n",
    "    retrain_tokenizer = False,\n",
    "    device = get_device(),\n",
    "    batch_size = 64,\n",
    "    learning_rate = 3e-4,\n",
    "    weight_decay = 1e-5,\n",
    "    max_epochs = 1,\n",
    "    log_frequency = 1\n",
    ")"
   ]
  },
  {
   "cell_type": "markdown",
   "id": "9472a483",
   "metadata": {},
   "source": [
    "Before we can train the model, we need to train the tokenizer."
   ]
  },
  {
   "cell_type": "code",
   "execution_count": 31,
   "id": "295f0fc7",
   "metadata": {},
   "outputs": [],
   "source": [
    "input_file = \"data/tinyshakespeare.txt\"\n",
    "output_file = Path(input_file).with_suffix(\".model\")\n",
    "\n",
    "if not output_file.exists() or train_config.retrain_tokenizer:\n",
    "    train_tokenizer(input_file, llm_config.vocab_size)\n",
    "\n",
    "tokenizer = Tokenizer(str(output_file))"
   ]
  },
  {
   "cell_type": "markdown",
   "id": "0d3dde14",
   "metadata": {},
   "source": [
    "A demonstration of the tokenizer in action."
   ]
  },
  {
   "cell_type": "code",
   "execution_count": 32,
   "id": "0ec42a3a",
   "metadata": {},
   "outputs": [
    {
     "name": "stdout",
     "output_type": "stream",
     "text": [
      "['▁Before', '▁we', '▁proceed', '▁any', '▁further', ',', '▁hear', '▁me', '▁speak', '.']\n"
     ]
    }
   ],
   "source": [
    "sentence = \"Before we proceed any further, hear me speak.\"\n",
    "print(tokenizer.sp.EncodeAsPieces(sentence))"
   ]
  },
  {
   "cell_type": "markdown",
   "id": "8d25c54f",
   "metadata": {},
   "source": [
    "## Model setup and training\n",
    "\n",
    "Generate the model instance using the configuration options previously chosen."
   ]
  },
  {
   "cell_type": "code",
   "execution_count": null,
   "id": "3ae82768",
   "metadata": {},
   "outputs": [
    {
     "name": "stdout",
     "output_type": "stream",
     "text": [
      "torch.Size([64, 128]) torch.Size([64, 128])\n"
     ]
    }
   ],
   "source": [
    "model = LLM(\n",
    "    vocab_size = tokenizer.vocab_size,\n",
    "    seq_len = llm_config.seq_len,\n",
    "    dim_emb = llm_config.dim_emb,\n",
    "    num_layers = llm_config.num_layers,\n",
    "    attn_num_heads = llm_config.num_heads,\n",
    "    emb_dropout = llm_config.emb_dropout,\n",
    "    ffn_hidden_dim = llm_config.ffn_dim_hidden,\n",
    "    ffn_bias = llm_config.ffn_bias\n",
    ")"
   ]
  },
  {
   "cell_type": "markdown",
   "id": "34e7f77f",
   "metadata": {},
   "source": [
    "Set up the training data and the corresponding data loader. When you look carefully at the training labels, you will notice they are exactly shifted one relative to the training inputs. That's because we're training next-token prediction."
   ]
  },
  {
   "cell_type": "code",
   "execution_count": null,
   "id": "98dd3f56",
   "metadata": {},
   "outputs": [
    {
     "name": "stdout",
     "output_type": "stream",
     "text": [
      "Tensor shapes\n",
      "  input: torch.Size([64, 128])\n",
      " output: torch.Size([64, 128])\n",
      "\n",
      "Inputs:\n",
      "tensor([[  29,  435,   20,   17, 3193,  ...,  194,   63,   20,    3,    3],\n",
      "        [   3,    3,   69,  625,  359,  ..., 3603,    6,    4,  734,   16],\n",
      "        [   3,   24,   30,   55,  618,  ...,   60,   27,  266,   10,   16],\n",
      "        [1300,  170,  232,   40,  305,  ...,    4,   88,    5,    3,    8],\n",
      "        [  30,    9,    3, 1351,   14,  ...,  172,    4,  110,  361,   21],\n",
      "        ...,\n",
      "        [ 145,   38,   21,  167,  667,  ...,    3,    3,  412,  769,  164],\n",
      "        [  26,  263,  249,   28,   89,  ...,  207,    4,   15,   31,  277],\n",
      "        [ 401,  428,  435, 3660,    4,  ...,   10,   16,    3,   24,   38],\n",
      "        [  14,  631,   16,   52,    4,  ...,  370,  355,    4,   83, 1017],\n",
      "        [  71,   94,  135,   15,   17,  ...,    3,   86,  170,  398,    6]])\n",
      "\n",
      "Labels:\n",
      "tensor([[ 435,   20,   17, 3193,  215,  ...,   63,   20,    3,    3,   80],\n",
      "        [   3,   69,  625,  359,    5,  ...,    6,    4,  734,   16,    3],\n",
      "        [  24,   30,   55,  618,   93,  ...,   27,  266,   10,   16,   55],\n",
      "        [ 170,  232,   40,  305,   21,  ...,   88,    5,    3,    8,   59],\n",
      "        [   9,    3, 1351,   14,   82,  ...,    4,  110,  361,   21,    9],\n",
      "        ...,\n",
      "        [  38,   21,  167,  667,    3,  ...,    3,  412,  769,  164,    5],\n",
      "        [ 263,  249,   28,   89, 1714,  ...,    4,   15,   31,  277,  239],\n",
      "        [ 428,  435, 3660,    4,  126,  ...,   16,    3,   24,   38,   35],\n",
      "        [ 631,   16,   52,    4,  734,  ...,  355,    4,   83, 1017,    7],\n",
      "        [  94,  135,   15,   17, 1252,  ...,   86,  170,  398,    6,  475]])\n",
      "\n"
     ]
    }
   ],
   "source": [
    "# training data\n",
    "ds_train = NextTokenPredictionDataset(input_file, llm_config.seq_len, tokenizer)\n",
    "\n",
    "# data loader\n",
    "dl_train = DataLoader(ds_train, batch_size = train_config.batch_size, shuffle = True)\n",
    "\n",
    "# make pytorch print more numbers in the array instead of abbreviating with ...\n",
    "torch.set_printoptions(edgeitems = 5)\n",
    "\n",
    "# print inputs and labels for the first training iteration\n",
    "for inputs, labels in dl_train:\n",
    "    print(f\"Tensor shapes\\n  input: {inputs.shape}\\n output: {labels.shape}\\n\")\n",
    "    print(f\"Inputs:\\n{inputs}\\n\")\n",
    "    print(f\"Labels:\\n{labels}\\n\")\n",
    "    \n",
    "    break"
   ]
  },
  {
   "cell_type": "markdown",
   "id": "23cd501d",
   "metadata": {},
   "source": [
    "Next we train the model (if you set `train_llm = True`). This may take a couple of hours, depending on your computer."
   ]
  },
  {
   "cell_type": "code",
   "execution_count": 34,
   "id": "bc731d07",
   "metadata": {},
   "outputs": [],
   "source": [
    "train_llm = False\n",
    "\n",
    "if train_llm:\n",
    "    loss_history = train(\n",
    "        model,\n",
    "        dl_train,\n",
    "        train_config.device,\n",
    "        lr = train_config.learning_rate,\n",
    "        max_epochs = train_config.max_epochs,\n",
    "        weight_decay = train_config.weight_decay,\n",
    "        log_every = train_config.log_frequency\n",
    "    )\n",
    "    # save the model\n",
    "    torch.save(model.state_dict(), \"data/tinyshakespeare_llm.pt\")\n",
    "\n",
    "    # save the history from the training run\n",
    "    df = pl.DataFrame({\n",
    "        'index': range(len(loss_history['train_loss'])),\n",
    "        'train_loss': loss_history['train_loss']\n",
    "    })\n",
    "    df.write_csv('data/loss_history.csv')"
   ]
  },
  {
   "cell_type": "markdown",
   "id": "fec0988b",
   "metadata": {},
   "source": [
    "Plot the history of the training loss."
   ]
  },
  {
   "cell_type": "code",
   "execution_count": 35,
   "id": "d6b16211",
   "metadata": {},
   "outputs": [
    {
     "data": {
      "image/png": "[encoded data removed]"
     },
     "metadata": {
      "image/png": {
       "height": 480,
       "width": 640
      }
     },
     "output_type": "display_data"
    }
   ],
   "source": [
    "# Load the DataFrame back from the CSV file\n",
    "loss_history = pl.read_csv('data/loss_history.csv')\n",
    "\n",
    "plot = (\n",
    "    ggplot(loss_history, aes(x = 'index', y = 'train_loss')) +\n",
    "        geom_line() +\n",
    "        labs(\n",
    "            x = 'Step',\n",
    "            y = 'Training loss'\n",
    "        ) +\n",
    "        theme_minimal()\n",
    "    )\n",
    "\n",
    "plot"
   ]
  },
  {
   "cell_type": "markdown",
   "id": "7cbad122",
   "metadata": {},
   "source": [
    "## Using the model\n",
    "\n",
    "To use the model, we don't have to retrain. We can just load the model that we saved previously and start exploring."
   ]
  },
  {
   "cell_type": "code",
   "execution_count": 50,
   "id": "b90713f2",
   "metadata": {},
   "outputs": [
    {
     "data": {
      "text/plain": [
       "LLM(\n",
       "  (token_embedding): Embedding(4096, 256)\n",
       "  (emb_dropout): Dropout(p=0.0, inplace=False)\n",
       "  (transformer): Sequential(\n",
       "    (0): TransformerBlock(\n",
       "      (norm_attn): RMSNorm()\n",
       "      (multihead_attn): MultiHeadAttention(\n",
       "        (positional_encoding): RotaryPositionalEncoding()\n",
       "        (proj_qkv): Linear(in_features=256, out_features=768, bias=False)\n",
       "        (proj_out): Linear(in_features=256, out_features=256, bias=False)\n",
       "      )\n",
       "      (norm_ffn): RMSNorm()\n",
       "      (feed_forward): FeedForward(\n",
       "        (0): Linear(in_features=256, out_features=1024, bias=False)\n",
       "        (1): SwiGLU(\n",
       "          (linear): Linear(in_features=1024, out_features=2048, bias=True)\n",
       "        )\n",
       "        (2): Linear(in_features=1024, out_features=256, bias=False)\n",
       "      )\n",
       "    )\n",
       "    (1): TransformerBlock(\n",
       "      (norm_attn): RMSNorm()\n",
       "      (multihead_attn): MultiHeadAttention(\n",
       "        (positional_encoding): RotaryPositionalEncoding()\n",
       "        (proj_qkv): Linear(in_features=256, out_features=768, bias=False)\n",
       "        (proj_out): Linear(in_features=256, out_features=256, bias=False)\n",
       "      )\n",
       "      (norm_ffn): RMSNorm()\n",
       "      (feed_forward): FeedForward(\n",
       "        (0): Linear(in_features=256, out_features=1024, bias=False)\n",
       "        (1): SwiGLU(\n",
       "          (linear): Linear(in_features=1024, out_features=2048, bias=True)\n",
       "        )\n",
       "        (2): Linear(in_features=1024, out_features=256, bias=False)\n",
       "      )\n",
       "    )\n",
       "    (2): TransformerBlock(\n",
       "      (norm_attn): RMSNorm()\n",
       "      (multihead_attn): MultiHeadAttention(\n",
       "        (positional_encoding): RotaryPositionalEncoding()\n",
       "        (proj_qkv): Linear(in_features=256, out_features=768, bias=False)\n",
       "        (proj_out): Linear(in_features=256, out_features=256, bias=False)\n",
       "      )\n",
       "      (norm_ffn): RMSNorm()\n",
       "      (feed_forward): FeedForward(\n",
       "        (0): Linear(in_features=256, out_features=1024, bias=False)\n",
       "        (1): SwiGLU(\n",
       "          (linear): Linear(in_features=1024, out_features=2048, bias=True)\n",
       "        )\n",
       "        (2): Linear(in_features=1024, out_features=256, bias=False)\n",
       "      )\n",
       "    )\n",
       "    (3): TransformerBlock(\n",
       "      (norm_attn): RMSNorm()\n",
       "      (multihead_attn): MultiHeadAttention(\n",
       "        (positional_encoding): RotaryPositionalEncoding()\n",
       "        (proj_qkv): Linear(in_features=256, out_features=768, bias=False)\n",
       "        (proj_out): Linear(in_features=256, out_features=256, bias=False)\n",
       "      )\n",
       "      (norm_ffn): RMSNorm()\n",
       "      (feed_forward): FeedForward(\n",
       "        (0): Linear(in_features=256, out_features=1024, bias=False)\n",
       "        (1): SwiGLU(\n",
       "          (linear): Linear(in_features=1024, out_features=2048, bias=True)\n",
       "        )\n",
       "        (2): Linear(in_features=1024, out_features=256, bias=False)\n",
       "      )\n",
       "    )\n",
       "  )\n",
       "  (norm): RMSNorm()\n",
       "  (projection_head): Linear(in_features=256, out_features=4096, bias=True)\n",
       ")"
      ]
     },
     "execution_count": 50,
     "metadata": {},
     "output_type": "execute_result"
    }
   ],
   "source": [
    "# move the model to the appropriate GPU device\n",
    "model.to(train_config.device)\n",
    "\n",
    "# load the saved model weights\n",
    "model.load_state_dict(torch.load(\n",
    "    \"data/tinyshakespeare_llm.pt\",\n",
    "    weights_only = True\n",
    "))\n",
    "\n",
    "# put the model into evaluation mode\n",
    "model.eval()"
   ]
  },
  {
   "cell_type": "markdown",
   "id": "a6213274",
   "metadata": {},
   "source": [
    "Let's start with an empty prompt to generate random text."
   ]
  },
  {
   "cell_type": "code",
   "execution_count": null,
   "id": "efc4804c",
   "metadata": {},
   "outputs": [
    {
     "name": "stdout",
     "output_type": "stream",
     "text": [
      "The prompt input:\n",
      "tensor([[3, 3, 3, 3, 3, 3, 3, 3, 3, 3, 3, 3, 3, 3, 3, 3, 3, 3, 3, 3, 3, 3, 3, 3,\n",
      "         3, 3, 3, 3, 3, 3, 3, 3, 3, 3, 3, 3, 3, 3, 3, 3, 3, 3, 3, 3, 3, 3, 3, 3,\n",
      "         3, 3, 3, 3, 3, 3, 3, 3, 3, 3, 3, 3, 3, 3, 3, 3, 3, 3, 3, 3, 3, 3, 3, 3,\n",
      "         3, 3, 3, 3, 3, 3, 3, 3, 3, 3, 3, 3, 3, 3, 3, 3, 3, 3, 3, 3, 3, 3, 3, 3,\n",
      "         3, 3, 3, 3, 3, 3, 3, 3, 3, 3, 3, 3, 3, 3, 3, 3, 3, 3, 3, 3, 3, 3, 3, 3,\n",
      "         3, 3, 3, 3, 3, 3, 3, 3]], dtype=torch.int32)\n",
      "\n",
      "The output in token form:\n",
      "tensor([   3,    3,    3,    3,    3,    3,    3,    3,    3,    3,    3,    3,\n",
      "           3,    3,    3,    3,    3,    3,    3,    3,    3,    3,    3,    3,\n",
      "           3,    3,    3,    3,    3,    3,    3,    3,    3,    3,    3,    3,\n",
      "           3,    3,    3,    3,    3,    3,    3,    3,    3,    3,    3,    3,\n",
      "           3,    3,    3,    3,    3,    3,    3,    3,    3,    3,    3,    3,\n",
      "           3,    3,    3,    3,    3,    3,    3,    3,    3,    3,    3,    3,\n",
      "           3,    3,    3,    3,    3,    3,    3,    3,    3,    3,    3,    3,\n",
      "           3,    3,    3,    3,    3,    3,    3,    3,    3,    3,    3,    3,\n",
      "           3,    3,    3,    3,    3,    3,    3,    3,    3,    3,    3,    3,\n",
      "           3,    3,    3,    3,    3,    3,    3,    3,    3,    3,    3,    3,\n",
      "           3,    3,    3,    3,    3,    3,    3,    3,  629,    4,   19,   90,\n",
      "           4,   48,   42,  113,    4,  116, 1096,  482,   28,  216,  654,    7,\n",
      "           3,    3,  209, 2304,    4, 1687,    6, 1573, 2852,    4,  386,   23,\n",
      "           8,  112,   14,    3,    8,   97,   36,   17, 3720,   23, 1172,  443,\n",
      "          10,    6,  442,    7,    3,    3,   12,   81,  159,    8,  275,   35,\n",
      "          97,  706,   18,  370,    3,  629,   37, 1077,  667,   15,   86,   47])\n",
      "The output decoded:\n",
      "Upon, my lord, but so well, let either place be much reason. Lord Marshal, demands kinsmanshire, against that I know; I would have auspicious that frown Henry's husband. KING RICHARD I fear he would kiss you better Upon this just arms of Cer\n"
     ]
    }
   ],
   "source": [
    "prompt = torch.full((1, llm_config.seq_len), tokenizer.eos_id, dtype = torch.int32)\n",
    "print(f\"The prompt input:\\n{prompt}\\n\")\n",
    "prompt = prompt.to(train_config.device)\n",
    "out = model.generate(prompt, max_seq_len = 64, top_p = 1)\n",
    "print(f\"The output in token form:\\n{out}\")\n",
    "print(f\"The output decoded:\\n{tokenizer.decode(out.tolist())}\")"
   ]
  },
  {
   "cell_type": "markdown",
   "id": "586e6e2b",
   "metadata": {},
   "source": [
    "We can also generate from a starting prompt."
   ]
  },
  {
   "cell_type": "code",
   "execution_count": 66,
   "id": "07fa2b12",
   "metadata": {},
   "outputs": [
    {
     "name": "stdout",
     "output_type": "stream",
     "text": [
      "The prompt input:\n",
      "tensor([[  0,   0,   0,   0,   0,   0,   0,   0,   0,   0,   0,   0,   0,   0,\n",
      "           0,   0,   0,   0,   0,   0,   0,   0,   0,   0,   0,   0,   0,   0,\n",
      "           0,   0,   0,   0,   0,   0,   0,   0,   0,   0,   0,   0,   0,   0,\n",
      "           0,   0,   0,   0,   0,   0,   0,   0,   0,   0,   0,   0,   0,   0,\n",
      "           0,   0,   0,   0,   0,   0,   0,   0,   0,   0,   0,   0,   0,   0,\n",
      "           0,   0,   0,   0,   0,   0,   0,   0,   0,   0,   0,   0,   0,   0,\n",
      "           0,   0,   0,   0,   0,   0,   0,   0,   0,   0,   0,   0,   0,   0,\n",
      "           0,   0,   0,   0,   0,   0,   0,   0,   0,   0,   0,   0,   0,   0,\n",
      "           0,   0,   0,   0,   0,   0,   0,   0,   2,  12,  81,  12, 228, 199,\n",
      "         132,   5]], dtype=torch.int32)\n",
      "\n",
      "The output in token form:\n",
      "tensor([   0,    0,    0,    0,    0,    0,    0,    0,    0,    0,    0,    0,\n",
      "           0,    0,    0,    0,    0,    0,    0,    0,    0,    0,    0,    0,\n",
      "           0,    0,    0,    0,    0,    0,    0,    0,    0,    0,    0,    0,\n",
      "           0,    0,    0,    0,    0,    0,    0,    0,    0,    0,    0,    0,\n",
      "           0,    0,    0,    0,    0,    0,    0,    0,    0,    0,    0,    0,\n",
      "           0,    0,    0,    0,    0,    0,    0,    0,    0,    0,    0,    0,\n",
      "           0,    0,    0,    0,    0,    0,    0,    0,    0,    0,    0,    0,\n",
      "           0,    0,    0,    0,    0,    0,    0,    0,    0,    0,    0,    0,\n",
      "           0,    0,    0,    0,    0,    0,    0,    0,    0,    0,    0,    0,\n",
      "           0,    0,    0,    0,    0,    0,    0,    0,    0,    0,    0,    0,\n",
      "           2,   12,   81,   12,  228,  199,  132,    5,    3, 2654,  476,   23,\n",
      "          46,  618,   10,    6,  237,   43, 2268,  331,   66,    7,    3,    3,\n",
      "          12,   81,   12,  228,  199,  132,    5,    3,   49,  989,   26, 1780,\n",
      "          14,   13,    4,    8,   97, 1861,   16,   33,  660,  311, 4095,  319,\n",
      "           3,  284,   26,   31,  303,  110,   22,    3,   49,  278,    4,  938,\n",
      "          90,   20,    3,    3,   12,   81,   12,  228,  199,  132,    5,    3])\n",
      "The output decoded:\n",
      "KING HENRY VI: Bring forth that thy breath's hand-owlouse. KING HENRY VI: The field is dreams; and, I would faind his nature guan It is your grace then! The other, brave lord? KING HENRY VI:\n"
     ]
    }
   ],
   "source": [
    "prompt = tokenizer.encode(\n",
    "    \"KING HENRY VI:\",\n",
    "    beg_of_string = True,\n",
    "    pad_seq = True,\n",
    "    seq_len = llm_config.seq_len\n",
    ")\n",
    "\n",
    "# convert prompt into tensor the model can work with\n",
    "inputs = torch.tensor(prompt, dtype=torch.int32).unsqueeze(0).to(train_config.device)\n",
    "\n",
    "# print the input tensor\n",
    "print(f\"The prompt input:\\n{inputs.to(torch.device(\"cpu\"))}\\n\")\n",
    "\n",
    "# generate output\n",
    "out = model.generate(inputs, max_seq_len=64, top_p=1)\n",
    "print(f\"The output in token form:\\n{out}\")\n",
    "print(f\"The output decoded:\\n{tokenizer.decode(out.tolist())}\")"
   ]
  },
  {
   "cell_type": "markdown",
   "id": "02d58e7c",
   "metadata": {},
   "source": [
    "## Exploring model parameters\n",
    "\n",
    "Structure of the model parameters:\n",
    "\n",
    "- **0** :: weight matrix for **token embeddings**\n",
    "\n",
    "<!-- -->\n",
    "\n",
    "- **1** :: **RMSNorm** parameter vector\n",
    "- **2** :: Q, K, V matrices (concatenated) for **MultiHeadAttention**\n",
    "- **3** :: weight matrix for projout part of **MultiHeadAttention**\n",
    "- **4** :: **RMSNorm** parameter vector\n",
    "- **5** :: initial weight matrix for **FeedForward (SwiGLU)** part\n",
    "- **6** :: **SwiGLU** weight matrices (concatened)\n",
    "- **7** :: **SwiGLU** bias vector\n",
    "- **8** :: final weight matrix for **FeedForward (SwiGLU)** part\n",
    "\n",
    "<!-- -->\n",
    "\n",
    "-  **9-16** :: as 1-8 but for second TransformerBlock\n",
    "- **17-24** ::        \"       third         \"\n",
    "- **25-32** ::        \"       fourth        \"\n",
    "\n",
    "<!-- -->\n",
    "\n",
    "- **33** :: **RMSNorm** parameter vector\n",
    "- **34** :: final **projection_head** bias vector\n",
    "\n",
    "**NOTE**: there is no weight matrix for the final projection head b/c it is \"weight-tied\" to the token embeddings weight matrix (0 above)"
   ]
  },
  {
   "cell_type": "code",
   "execution_count": 39,
   "id": "992f59e5",
   "metadata": {},
   "outputs": [
    {
     "data": {
      "text/plain": [
       "[[4096, 256],\n",
       " [256],\n",
       " [768, 256],\n",
       " [256, 256],\n",
       " [256],\n",
       " [1024, 256],\n",
       " [2048, 1024],\n",
       " [2048],\n",
       " [256, 1024],\n",
       " [256],\n",
       " [768, 256],\n",
       " [256, 256],\n",
       " [256],\n",
       " [1024, 256],\n",
       " [2048, 1024],\n",
       " [2048],\n",
       " [256, 1024],\n",
       " [256],\n",
       " [768, 256],\n",
       " [256, 256],\n",
       " [256],\n",
       " [1024, 256],\n",
       " [2048, 1024],\n",
       " [2048],\n",
       " [256, 1024],\n",
       " [256],\n",
       " [768, 256],\n",
       " [256, 256],\n",
       " [256],\n",
       " [1024, 256],\n",
       " [2048, 1024],\n",
       " [2048],\n",
       " [256, 1024],\n",
       " [256],\n",
       " [4096]]"
      ]
     },
     "execution_count": 39,
     "metadata": {},
     "output_type": "execute_result"
    }
   ],
   "source": [
    "parList = list(model.parameters())\n",
    "len(parList) ## 35\n",
    "parShapes = [list(el.shape) for el in parList]\n",
    "parShapes"
   ]
  },
  {
   "cell_type": "markdown",
   "id": "ec831063",
   "metadata": {},
   "source": [
    "Extracting token embeddings."
   ]
  },
  {
   "cell_type": "code",
   "execution_count": 40,
   "id": "79a3d836",
   "metadata": {},
   "outputs": [
    {
     "name": "stdout",
     "output_type": "stream",
     "text": [
      "2554\n",
      "4077\n"
     ]
    }
   ],
   "source": [
    "# extract list of all tokens\n",
    "tokens = [tokenizer.sp.id_to_piece(i) for i in range(llm_config.vocab_size)]\n",
    "\n",
    "print(tokenizer.sp.piece_to_id(\"▁perforce\"))\n",
    "print(tokenizer.sp.piece_to_id(\"▁basilisk\"))"
   ]
  },
  {
   "cell_type": "code",
   "execution_count": 41,
   "id": "f30b01ec",
   "metadata": {},
   "outputs": [
    {
     "name": "stdout",
     "output_type": "stream",
     "text": [
      "(4096, 256)\n",
      "[ 0.12156016 -0.0099959  -0.19147873 -0.03167577  0.1351134   0.01268052\n",
      " -0.11713272 -0.0122845   0.05028123 -0.05549955  0.1169702   0.12614267\n",
      " -0.1414851  -0.12029358 -0.2162446  -0.04089043 -0.1632856  -0.16390333\n",
      "  0.0821972   0.02083724 -0.12970665 -0.01712992 -0.14921714  0.0014154\n",
      "  0.02282418 -0.00102914  0.09017789  0.07841333  0.00870239  0.04807895\n",
      "  0.00293009  0.02606076 -0.00121484 -0.09046519  0.10373773  0.00576931\n",
      "  0.1059331  -0.15730543 -0.13012923  0.13905692 -0.0055643   0.07446798\n",
      " -0.08859295  0.03201487 -0.20205347 -0.20868    -0.03376347 -0.13571581\n",
      " -0.01637249 -0.05451866 -0.02754104  0.08714122  0.27879238  0.07519543\n",
      " -0.08280671  0.04157126  0.0207821   0.07166664 -0.05247704  0.05845525\n",
      " -0.09463872 -0.01284828  0.06014227  0.04234436  0.08217847 -0.07978135\n",
      " -0.00449242  0.11361717  0.0413647  -0.1009204   0.01061707 -0.17642824\n",
      "  0.00747577  0.03218103  0.09197289 -0.09877346 -0.10357529  0.0026288\n",
      " -0.06611331  0.0945104  -0.03567825  0.00602461  0.07952826  0.01909547\n",
      "  0.14679334 -0.01130182 -0.07209515 -0.03408311 -0.05657071 -0.00928902\n",
      " -0.16188295  0.12188713 -0.30259314 -0.21117687  0.06701671 -0.05581607\n",
      "  0.09750555  0.00837707 -0.04572316  0.0767541   0.02589946 -0.17301573\n",
      " -0.02430391 -0.05914637 -0.09569187 -0.00715105  0.10642423 -0.1331001\n",
      " -0.1639198   0.03598696  0.07721332  0.0846858   0.02508011 -0.22582304\n",
      "  0.08747628  0.09943017 -0.1446274   0.13265714  0.17183086  0.26390877\n",
      " -0.10609984 -0.07846428 -0.05395908 -0.14817566  0.02667135  0.17389414\n",
      "  0.06037903  0.19422753  0.03055301  0.00965876  0.06703529 -0.09554918\n",
      " -0.08490837 -0.03594423 -0.16205493  0.15514271  0.12234769 -0.09604499\n",
      "  0.02268993  0.01948319 -0.22948185  0.02475435 -0.02435838  0.12432747\n",
      " -0.1177767  -0.05861736  0.12048616  0.0278107   0.11855938  0.082295\n",
      "  0.15773457  0.15209682 -0.05326066 -0.13607422  0.06704742  0.12033316\n",
      " -0.01754767  0.15294093  0.07182135  0.07286128 -0.03763793  0.16805422\n",
      " -0.13665259 -0.14590299 -0.11769859  0.01584222 -0.04729978  0.07435361\n",
      "  0.08755117 -0.14810045  0.08219083  0.08141726 -0.15932041  0.08896866\n",
      "  0.00257294  0.01402626 -0.28560302 -0.10731288  0.04729434 -0.03063466\n",
      " -0.11294656  0.10692156 -0.01004114  0.10202989  0.05552688 -0.07784756\n",
      " -0.06121444  0.14128163  0.0504729  -0.02284776  0.00352247  0.00442883\n",
      " -0.01458494 -0.04555253  0.03351125 -0.01408263  0.1557876   0.49137098\n",
      "  0.0177751   0.01322963  0.07468314 -0.14367814  0.14127293  0.07429405\n",
      " -0.03890813  0.29076582  0.06310087  0.20552024 -0.01887319 -0.10962854\n",
      " -0.12040512  0.07544048  0.04239252 -0.10031871 -0.09128864 -0.02477663\n",
      " -0.01020197  0.08917336 -0.03073025  0.16435218 -0.11645045 -0.08087638\n",
      " -0.10030569 -0.0581516  -0.09298117  0.05033639  0.08947309 -0.22492222\n",
      "  0.10228913  0.01575855 -0.2286975  -0.08281692  0.03961892  0.04433014\n",
      "  0.03772079 -0.05949839 -0.01250811  0.05095746 -0.01149526 -0.031511\n",
      "  0.02736232  0.08294542  0.05541536 -0.24131618  0.00341206  0.09039807\n",
      " -0.09357894  0.0346498   0.03892256 -0.16336069  0.10580789  0.13764101\n",
      " -0.03279602 -0.00619661  0.06477308 -0.00154057]\n"
     ]
    },
    {
     "data": {
      "text/html": [
       "<div><style>\n",
       ".dataframe > thead > tr,\n",
       ".dataframe > tbody > tr {\n",
       "  text-align: right;\n",
       "  white-space: pre-wrap;\n",
       "}\n",
       "</style>\n",
       "<small>shape: (3, 257)</small><table border=\"1\" class=\"dataframe\"><thead><tr><th>token</th><th>dim_0</th><th>dim_1</th><th>dim_2</th><th>dim_3</th><th>dim_4</th><th>dim_5</th><th>dim_6</th><th>dim_7</th><th>dim_8</th><th>dim_9</th><th>dim_10</th><th>dim_11</th><th>dim_12</th><th>dim_13</th><th>dim_14</th><th>dim_15</th><th>dim_16</th><th>dim_17</th><th>dim_18</th><th>dim_19</th><th>dim_20</th><th>dim_21</th><th>dim_22</th><th>dim_23</th><th>dim_24</th><th>dim_25</th><th>dim_26</th><th>dim_27</th><th>dim_28</th><th>dim_29</th><th>dim_30</th><th>dim_31</th><th>dim_32</th><th>dim_33</th><th>dim_34</th><th>dim_35</th><th>&hellip;</th><th>dim_219</th><th>dim_220</th><th>dim_221</th><th>dim_222</th><th>dim_223</th><th>dim_224</th><th>dim_225</th><th>dim_226</th><th>dim_227</th><th>dim_228</th><th>dim_229</th><th>dim_230</th><th>dim_231</th><th>dim_232</th><th>dim_233</th><th>dim_234</th><th>dim_235</th><th>dim_236</th><th>dim_237</th><th>dim_238</th><th>dim_239</th><th>dim_240</th><th>dim_241</th><th>dim_242</th><th>dim_243</th><th>dim_244</th><th>dim_245</th><th>dim_246</th><th>dim_247</th><th>dim_248</th><th>dim_249</th><th>dim_250</th><th>dim_251</th><th>dim_252</th><th>dim_253</th><th>dim_254</th><th>dim_255</th></tr><tr><td>str</td><td>f32</td><td>f32</td><td>f32</td><td>f32</td><td>f32</td><td>f32</td><td>f32</td><td>f32</td><td>f32</td><td>f32</td><td>f32</td><td>f32</td><td>f32</td><td>f32</td><td>f32</td><td>f32</td><td>f32</td><td>f32</td><td>f32</td><td>f32</td><td>f32</td><td>f32</td><td>f32</td><td>f32</td><td>f32</td><td>f32</td><td>f32</td><td>f32</td><td>f32</td><td>f32</td><td>f32</td><td>f32</td><td>f32</td><td>f32</td><td>f32</td><td>f32</td><td>&hellip;</td><td>f32</td><td>f32</td><td>f32</td><td>f32</td><td>f32</td><td>f32</td><td>f32</td><td>f32</td><td>f32</td><td>f32</td><td>f32</td><td>f32</td><td>f32</td><td>f32</td><td>f32</td><td>f32</td><td>f32</td><td>f32</td><td>f32</td><td>f32</td><td>f32</td><td>f32</td><td>f32</td><td>f32</td><td>f32</td><td>f32</td><td>f32</td><td>f32</td><td>f32</td><td>f32</td><td>f32</td><td>f32</td><td>f32</td><td>f32</td><td>f32</td><td>f32</td><td>f32</td></tr></thead><tbody><tr><td>&quot;▁castle&quot;</td><td>0.263939</td><td>0.044121</td><td>-0.213313</td><td>-0.179261</td><td>0.120012</td><td>-0.049066</td><td>0.138834</td><td>0.129169</td><td>-0.201124</td><td>0.104874</td><td>-0.013315</td><td>0.235569</td><td>-0.108573</td><td>0.035842</td><td>-0.116244</td><td>-0.179734</td><td>-0.08165</td><td>0.010728</td><td>-0.011823</td><td>0.04347</td><td>0.05412</td><td>0.055059</td><td>-0.045541</td><td>0.321559</td><td>0.434718</td><td>-0.002266</td><td>-0.197611</td><td>0.010816</td><td>0.192586</td><td>0.049541</td><td>-0.081665</td><td>0.025165</td><td>0.082288</td><td>0.006632</td><td>-0.196756</td><td>-0.077832</td><td>&hellip;</td><td>-0.025552</td><td>-0.089032</td><td>-0.074047</td><td>-0.157469</td><td>0.322923</td><td>-0.181899</td><td>-0.383923</td><td>0.271476</td><td>0.011025</td><td>0.269722</td><td>-0.04009</td><td>0.067611</td><td>0.116781</td><td>0.014419</td><td>-0.051902</td><td>-0.020038</td><td>-0.077157</td><td>-0.262623</td><td>0.044738</td><td>0.005762</td><td>0.031132</td><td>-0.01945</td><td>0.122654</td><td>0.109949</td><td>-0.086812</td><td>-0.031442</td><td>-0.018236</td><td>-0.197472</td><td>0.06817</td><td>0.036247</td><td>-0.058431</td><td>0.012807</td><td>-0.028308</td><td>0.096049</td><td>0.14693</td><td>-0.104912</td><td>0.060392</td></tr><tr><td>&quot;▁perforce&quot;</td><td>-0.226358</td><td>0.297669</td><td>0.263069</td><td>-0.253686</td><td>0.060366</td><td>0.077266</td><td>-0.183247</td><td>0.132908</td><td>0.194666</td><td>0.19651</td><td>0.168235</td><td>-0.037443</td><td>-0.033373</td><td>0.107463</td><td>-0.050569</td><td>0.056222</td><td>-0.061893</td><td>0.202319</td><td>0.052294</td><td>0.052387</td><td>0.167596</td><td>0.093012</td><td>-0.011061</td><td>-0.13784</td><td>0.042442</td><td>0.057615</td><td>-0.078783</td><td>-0.310425</td><td>0.032576</td><td>0.033058</td><td>0.22463</td><td>-0.059674</td><td>0.136406</td><td>0.043493</td><td>-0.054112</td><td>-0.100324</td><td>&hellip;</td><td>-0.029709</td><td>-0.161548</td><td>-0.013972</td><td>-0.214288</td><td>0.002533</td><td>0.131765</td><td>-0.054922</td><td>-0.161077</td><td>-0.040984</td><td>0.048698</td><td>0.055425</td><td>-0.018865</td><td>-0.151768</td><td>0.09816</td><td>0.019119</td><td>0.075908</td><td>0.201181</td><td>-0.114279</td><td>0.154172</td><td>-0.080666</td><td>-0.008314</td><td>-0.106708</td><td>0.035045</td><td>-0.048637</td><td>-0.084732</td><td>-0.183573</td><td>-0.021973</td><td>-0.111499</td><td>-0.382255</td><td>-0.165838</td><td>0.037185</td><td>0.066216</td><td>0.087103</td><td>-0.008479</td><td>-0.16095</td><td>-0.010008</td><td>0.070307</td></tr><tr><td>&quot;▁basilisk&quot;</td><td>0.12156</td><td>-0.009996</td><td>-0.191479</td><td>-0.031676</td><td>0.135113</td><td>0.012681</td><td>-0.117133</td><td>-0.012285</td><td>0.050281</td><td>-0.0555</td><td>0.11697</td><td>0.126143</td><td>-0.141485</td><td>-0.120294</td><td>-0.216245</td><td>-0.04089</td><td>-0.163286</td><td>-0.163903</td><td>0.082197</td><td>0.020837</td><td>-0.129707</td><td>-0.01713</td><td>-0.149217</td><td>0.001415</td><td>0.022824</td><td>-0.001029</td><td>0.090178</td><td>0.078413</td><td>0.008702</td><td>0.048079</td><td>0.00293</td><td>0.026061</td><td>-0.001215</td><td>-0.090465</td><td>0.103738</td><td>0.005769</td><td>&hellip;</td><td>0.164352</td><td>-0.11645</td><td>-0.080876</td><td>-0.100306</td><td>-0.058152</td><td>-0.092981</td><td>0.050336</td><td>0.089473</td><td>-0.224922</td><td>0.102289</td><td>0.015759</td><td>-0.228697</td><td>-0.082817</td><td>0.039619</td><td>0.04433</td><td>0.037721</td><td>-0.059498</td><td>-0.012508</td><td>0.050957</td><td>-0.011495</td><td>-0.031511</td><td>0.027362</td><td>0.082945</td><td>0.055415</td><td>-0.241316</td><td>0.003412</td><td>0.090398</td><td>-0.093579</td><td>0.03465</td><td>0.038923</td><td>-0.163361</td><td>0.105808</td><td>0.137641</td><td>-0.032796</td><td>-0.006197</td><td>0.064773</td><td>-0.001541</td></tr></tbody></table></div>"
      ],
      "text/plain": [
       "shape: (3, 257)\n",
       "┌───────────┬───────────┬───────────┬───────────┬───┬───────────┬───────────┬───────────┬──────────┐\n",
       "│ token     ┆ dim_0     ┆ dim_1     ┆ dim_2     ┆ … ┆ dim_252   ┆ dim_253   ┆ dim_254   ┆ dim_255  │\n",
       "│ ---       ┆ ---       ┆ ---       ┆ ---       ┆   ┆ ---       ┆ ---       ┆ ---       ┆ ---      │\n",
       "│ str       ┆ f32       ┆ f32       ┆ f32       ┆   ┆ f32       ┆ f32       ┆ f32       ┆ f32      │\n",
       "╞═══════════╪═══════════╪═══════════╪═══════════╪═══╪═══════════╪═══════════╪═══════════╪══════════╡\n",
       "│ ▁castle   ┆ 0.263939  ┆ 0.044121  ┆ -0.213313 ┆ … ┆ 0.096049  ┆ 0.14693   ┆ -0.104912 ┆ 0.060392 │\n",
       "│ ▁perforce ┆ -0.226358 ┆ 0.297669  ┆ 0.263069  ┆ … ┆ -0.008479 ┆ -0.16095  ┆ -0.010008 ┆ 0.070307 │\n",
       "│ ▁basilisk ┆ 0.12156   ┆ -0.009996 ┆ -0.191479 ┆ … ┆ -0.032796 ┆ -0.006197 ┆ 0.064773  ┆ -0.00154 │\n",
       "│           ┆           ┆           ┆           ┆   ┆           ┆           ┆           ┆ 1        │\n",
       "└───────────┴───────────┴───────────┴───────────┴───┴───────────┴───────────┴───────────┴──────────┘"
      ]
     },
     "execution_count": 41,
     "metadata": {},
     "output_type": "execute_result"
    }
   ],
   "source": [
    "# Convert tensor to numpy array and create DataFrame\n",
    "embedding_data = parList[0].cpu().detach().numpy()\n",
    "print(embedding_data.shape)\n",
    "\n",
    "# _basilisk is token 4077\n",
    "print(embedding_data[4077, :])\n",
    "\n",
    "# Create DataFrame with token column plus embedding dimensions\n",
    "embeddings = pl.DataFrame({\n",
    "    'token': tokens,\n",
    "    **{f'dim_{i}': embedding_data[:, i] for i in range(embedding_data.shape[1])}\n",
    "})\n",
    "\n",
    "target_tokens = [\"▁basilisk\", \"▁perforce\", \"▁castle\"]\n",
    "embeddings.filter(pl.col('token').is_in(target_tokens))"
   ]
  }
 ],
 "metadata": {
  "kernelspec": {
   "display_name": ".venv",
   "language": "python",
   "name": "python3"
  },
  "language_info": {
   "codemirror_mode": {
    "name": "ipython",
    "version": 3
   },
   "file_extension": ".py",
   "mimetype": "text/x-python",
   "name": "python",
   "nbconvert_exporter": "python",
   "pygments_lexer": "ipython3",
   "version": "3.12.4"
  }
 },
 "nbformat": 4,
 "nbformat_minor": 5
}
